{
 "cells": [
  {
   "cell_type": "code",
   "execution_count": 1,
   "metadata": {},
   "outputs": [],
   "source": [
    "import os\n",
    "import numpy as np\n",
    "import pandas as pd"
   ]
  },
  {
   "cell_type": "code",
   "execution_count": 2,
   "metadata": {},
   "outputs": [],
   "source": [
    "os.chdir(\"D:\\\\edwisor\\\\Employee absenteeism\")"
   ]
  },
  {
   "cell_type": "code",
   "execution_count": 3,
   "metadata": {},
   "outputs": [],
   "source": [
    "Data = pd.read_excel(\"Absenteeism_at_work_Project.xls\")"
   ]
  },
  {
   "cell_type": "code",
   "execution_count": 4,
   "metadata": {},
   "outputs": [
    {
     "data": {
      "text/plain": [
       "(740, 21)"
      ]
     },
     "execution_count": 4,
     "metadata": {},
     "output_type": "execute_result"
    }
   ],
   "source": [
    "Data.shape"
   ]
  },
  {
   "cell_type": "code",
   "execution_count": 5,
   "metadata": {},
   "outputs": [
    {
     "data": {
      "text/html": [
       "<div>\n",
       "<style scoped>\n",
       "    .dataframe tbody tr th:only-of-type {\n",
       "        vertical-align: middle;\n",
       "    }\n",
       "\n",
       "    .dataframe tbody tr th {\n",
       "        vertical-align: top;\n",
       "    }\n",
       "\n",
       "    .dataframe thead th {\n",
       "        text-align: right;\n",
       "    }\n",
       "</style>\n",
       "<table border=\"1\" class=\"dataframe\">\n",
       "  <thead>\n",
       "    <tr style=\"text-align: right;\">\n",
       "      <th></th>\n",
       "      <th>ID</th>\n",
       "      <th>Reason for absence</th>\n",
       "      <th>Month of absence</th>\n",
       "      <th>Day of the week</th>\n",
       "      <th>Seasons</th>\n",
       "      <th>Transportation expense</th>\n",
       "      <th>Distance from Residence to Work</th>\n",
       "      <th>Service time</th>\n",
       "      <th>Age</th>\n",
       "      <th>Work load Average/day</th>\n",
       "      <th>...</th>\n",
       "      <th>Disciplinary failure</th>\n",
       "      <th>Education</th>\n",
       "      <th>Son</th>\n",
       "      <th>Social drinker</th>\n",
       "      <th>Social smoker</th>\n",
       "      <th>Pet</th>\n",
       "      <th>Weight</th>\n",
       "      <th>Height</th>\n",
       "      <th>Body mass index</th>\n",
       "      <th>Absenteeism time in hours</th>\n",
       "    </tr>\n",
       "  </thead>\n",
       "  <tbody>\n",
       "    <tr>\n",
       "      <th>0</th>\n",
       "      <td>11</td>\n",
       "      <td>26.0</td>\n",
       "      <td>7.0</td>\n",
       "      <td>3</td>\n",
       "      <td>1</td>\n",
       "      <td>289.0</td>\n",
       "      <td>36.0</td>\n",
       "      <td>13.0</td>\n",
       "      <td>33.0</td>\n",
       "      <td>239554.0</td>\n",
       "      <td>...</td>\n",
       "      <td>0.0</td>\n",
       "      <td>1.0</td>\n",
       "      <td>2.0</td>\n",
       "      <td>1.0</td>\n",
       "      <td>0.0</td>\n",
       "      <td>1.0</td>\n",
       "      <td>90.0</td>\n",
       "      <td>172.0</td>\n",
       "      <td>30.0</td>\n",
       "      <td>4.0</td>\n",
       "    </tr>\n",
       "    <tr>\n",
       "      <th>1</th>\n",
       "      <td>36</td>\n",
       "      <td>0.0</td>\n",
       "      <td>7.0</td>\n",
       "      <td>3</td>\n",
       "      <td>1</td>\n",
       "      <td>118.0</td>\n",
       "      <td>13.0</td>\n",
       "      <td>18.0</td>\n",
       "      <td>50.0</td>\n",
       "      <td>239554.0</td>\n",
       "      <td>...</td>\n",
       "      <td>1.0</td>\n",
       "      <td>1.0</td>\n",
       "      <td>1.0</td>\n",
       "      <td>1.0</td>\n",
       "      <td>0.0</td>\n",
       "      <td>0.0</td>\n",
       "      <td>98.0</td>\n",
       "      <td>178.0</td>\n",
       "      <td>31.0</td>\n",
       "      <td>0.0</td>\n",
       "    </tr>\n",
       "    <tr>\n",
       "      <th>2</th>\n",
       "      <td>3</td>\n",
       "      <td>23.0</td>\n",
       "      <td>7.0</td>\n",
       "      <td>4</td>\n",
       "      <td>1</td>\n",
       "      <td>179.0</td>\n",
       "      <td>51.0</td>\n",
       "      <td>18.0</td>\n",
       "      <td>38.0</td>\n",
       "      <td>239554.0</td>\n",
       "      <td>...</td>\n",
       "      <td>0.0</td>\n",
       "      <td>1.0</td>\n",
       "      <td>0.0</td>\n",
       "      <td>1.0</td>\n",
       "      <td>0.0</td>\n",
       "      <td>0.0</td>\n",
       "      <td>89.0</td>\n",
       "      <td>170.0</td>\n",
       "      <td>31.0</td>\n",
       "      <td>2.0</td>\n",
       "    </tr>\n",
       "    <tr>\n",
       "      <th>3</th>\n",
       "      <td>7</td>\n",
       "      <td>7.0</td>\n",
       "      <td>7.0</td>\n",
       "      <td>5</td>\n",
       "      <td>1</td>\n",
       "      <td>279.0</td>\n",
       "      <td>5.0</td>\n",
       "      <td>14.0</td>\n",
       "      <td>39.0</td>\n",
       "      <td>239554.0</td>\n",
       "      <td>...</td>\n",
       "      <td>0.0</td>\n",
       "      <td>1.0</td>\n",
       "      <td>2.0</td>\n",
       "      <td>1.0</td>\n",
       "      <td>1.0</td>\n",
       "      <td>0.0</td>\n",
       "      <td>68.0</td>\n",
       "      <td>168.0</td>\n",
       "      <td>24.0</td>\n",
       "      <td>4.0</td>\n",
       "    </tr>\n",
       "    <tr>\n",
       "      <th>4</th>\n",
       "      <td>11</td>\n",
       "      <td>23.0</td>\n",
       "      <td>7.0</td>\n",
       "      <td>5</td>\n",
       "      <td>1</td>\n",
       "      <td>289.0</td>\n",
       "      <td>36.0</td>\n",
       "      <td>13.0</td>\n",
       "      <td>33.0</td>\n",
       "      <td>239554.0</td>\n",
       "      <td>...</td>\n",
       "      <td>0.0</td>\n",
       "      <td>1.0</td>\n",
       "      <td>2.0</td>\n",
       "      <td>1.0</td>\n",
       "      <td>0.0</td>\n",
       "      <td>1.0</td>\n",
       "      <td>90.0</td>\n",
       "      <td>172.0</td>\n",
       "      <td>30.0</td>\n",
       "      <td>2.0</td>\n",
       "    </tr>\n",
       "  </tbody>\n",
       "</table>\n",
       "<p>5 rows × 21 columns</p>\n",
       "</div>"
      ],
      "text/plain": [
       "   ID  Reason for absence  Month of absence  Day of the week  Seasons  \\\n",
       "0  11                26.0               7.0                3        1   \n",
       "1  36                 0.0               7.0                3        1   \n",
       "2   3                23.0               7.0                4        1   \n",
       "3   7                 7.0               7.0                5        1   \n",
       "4  11                23.0               7.0                5        1   \n",
       "\n",
       "   Transportation expense  Distance from Residence to Work  Service time  \\\n",
       "0                   289.0                             36.0          13.0   \n",
       "1                   118.0                             13.0          18.0   \n",
       "2                   179.0                             51.0          18.0   \n",
       "3                   279.0                              5.0          14.0   \n",
       "4                   289.0                             36.0          13.0   \n",
       "\n",
       "    Age  Work load Average/day             ...              \\\n",
       "0  33.0                239554.0            ...               \n",
       "1  50.0                239554.0            ...               \n",
       "2  38.0                239554.0            ...               \n",
       "3  39.0                239554.0            ...               \n",
       "4  33.0                239554.0            ...               \n",
       "\n",
       "   Disciplinary failure  Education  Son  Social drinker  Social smoker  Pet  \\\n",
       "0                   0.0        1.0  2.0             1.0            0.0  1.0   \n",
       "1                   1.0        1.0  1.0             1.0            0.0  0.0   \n",
       "2                   0.0        1.0  0.0             1.0            0.0  0.0   \n",
       "3                   0.0        1.0  2.0             1.0            1.0  0.0   \n",
       "4                   0.0        1.0  2.0             1.0            0.0  1.0   \n",
       "\n",
       "   Weight  Height  Body mass index  Absenteeism time in hours  \n",
       "0    90.0   172.0             30.0                        4.0  \n",
       "1    98.0   178.0             31.0                        0.0  \n",
       "2    89.0   170.0             31.0                        2.0  \n",
       "3    68.0   168.0             24.0                        4.0  \n",
       "4    90.0   172.0             30.0                        2.0  \n",
       "\n",
       "[5 rows x 21 columns]"
      ]
     },
     "execution_count": 5,
     "metadata": {},
     "output_type": "execute_result"
    }
   ],
   "source": [
    "Data.head()"
   ]
  },
  {
   "cell_type": "code",
   "execution_count": 6,
   "metadata": {},
   "outputs": [
    {
     "name": "stdout",
     "output_type": "stream",
     "text": [
      "<class 'pandas.core.frame.DataFrame'>\n",
      "RangeIndex: 740 entries, 0 to 739\n",
      "Data columns (total 21 columns):\n",
      "ID                                 740 non-null int64\n",
      "Reason for absence                 737 non-null float64\n",
      "Month of absence                   739 non-null float64\n",
      "Day of the week                    740 non-null int64\n",
      "Seasons                            740 non-null int64\n",
      "Transportation expense             733 non-null float64\n",
      "Distance from Residence to Work    737 non-null float64\n",
      "Service time                       737 non-null float64\n",
      "Age                                737 non-null float64\n",
      "Work load Average/day              730 non-null float64\n",
      "Hit target                         734 non-null float64\n",
      "Disciplinary failure               734 non-null float64\n",
      "Education                          730 non-null float64\n",
      "Son                                734 non-null float64\n",
      "Social drinker                     737 non-null float64\n",
      "Social smoker                      736 non-null float64\n",
      "Pet                                738 non-null float64\n",
      "Weight                             739 non-null float64\n",
      "Height                             726 non-null float64\n",
      "Body mass index                    709 non-null float64\n",
      "Absenteeism time in hours          718 non-null float64\n",
      "dtypes: float64(18), int64(3)\n",
      "memory usage: 121.5 KB\n"
     ]
    }
   ],
   "source": [
    "Data.info()"
   ]
  },
  {
   "cell_type": "code",
   "execution_count": 7,
   "metadata": {},
   "outputs": [],
   "source": [
    "Data['Month of absence'] = Data['Month of absence'].astype(object)\n",
    "Data['Day of the week'] = Data['Day of the week'].astype(object)\n",
    "Data['Seasons'] = Data['Seasons'].astype(object)\n",
    "Data['Education'] = Data['Education'].astype(object)\n",
    "Data['Son'] = Data['Son'].astype(object)\n",
    "Data['Social drinker'] = Data['Social drinker'].astype(object)\n",
    "Data['Social smoker'] = Data['Social smoker'].astype(object)\n",
    "Data['Pet'] = Data['Pet'].astype(object)"
   ]
  },
  {
   "cell_type": "code",
   "execution_count": 8,
   "metadata": {},
   "outputs": [],
   "source": [
    "def get_cname(data):\n",
    "    all_cnames = []\n",
    "    num_cnames = []\n",
    "    cat_cnames = []\n",
    "    for i in data.columns:\n",
    "        all_cnames.append(str(i))\n",
    "        if(data[i].dtype == \"object\"):\n",
    "            cat_cnames.append(str(i))\n",
    "        else:\n",
    "            num_cnames.append(str(i))\n",
    "    cnames = [all_cnames, num_cnames, cat_cnames]    \n",
    "    return(cnames)"
   ]
  },
  {
   "cell_type": "code",
   "execution_count": 9,
   "metadata": {},
   "outputs": [],
   "source": [
    "# Get cnames - cnames[0] - all cnames; cnames[1] - numeric cnames; cnames[2] - categorical cnames \n",
    "cnames = get_cname(Data)"
   ]
  },
  {
   "cell_type": "code",
   "execution_count": 10,
   "metadata": {},
   "outputs": [],
   "source": [
    "#rows, cols = EmployeeData.shape\n",
    "rows = Data.shape[0] #gives number of row count\n",
    "cols = Data.shape[1] #gives number of col count"
   ]
  },
  {
   "cell_type": "code",
   "execution_count": 11,
   "metadata": {},
   "outputs": [
    {
     "name": "stdout",
     "output_type": "stream",
     "text": [
      "ID    <class 'numpy.int64'>\n",
      "Reason for absence    <class 'numpy.float64'>\n",
      "Month of absence    <class 'float'>\n",
      "Day of the week    <class 'int'>\n",
      "Seasons    <class 'int'>\n",
      "Transportation expense    <class 'numpy.float64'>\n",
      "Distance from Residence to Work    <class 'numpy.float64'>\n",
      "Service time    <class 'numpy.float64'>\n",
      "Age    <class 'numpy.float64'>\n",
      "Work load Average/day     <class 'numpy.float64'>\n",
      "Hit target    <class 'numpy.float64'>\n",
      "Disciplinary failure    <class 'numpy.float64'>\n",
      "Education    <class 'float'>\n",
      "Son    <class 'float'>\n",
      "Social drinker    <class 'float'>\n",
      "Social smoker    <class 'float'>\n",
      "Pet    <class 'float'>\n",
      "Weight    <class 'numpy.float64'>\n",
      "Height    <class 'numpy.float64'>\n",
      "Body mass index    <class 'numpy.float64'>\n",
      "Absenteeism time in hours    <class 'numpy.float64'>\n"
     ]
    }
   ],
   "source": [
    "for i in cnames[0]:\n",
    "    print(str(i) + \"    \" + str(type(Data[i][1])))"
   ]
  },
  {
   "cell_type": "code",
   "execution_count": 12,
   "metadata": {},
   "outputs": [
    {
     "name": "stderr",
     "output_type": "stream",
     "text": [
      "C:\\Users\\Q6IH\\Anaconda3\\lib\\site-packages\\ipykernel_launcher.py:6: SettingWithCopyWarning: \n",
      "A value is trying to be set on a copy of a slice from a DataFrame\n",
      "\n",
      "See the caveats in the documentation: http://pandas.pydata.org/pandas-docs/stable/indexing.html#indexing-view-versus-copy\n",
      "  \n",
      "C:\\Users\\Q6IH\\Anaconda3\\lib\\site-packages\\ipykernel_launcher.py:8: SettingWithCopyWarning: \n",
      "A value is trying to be set on a copy of a slice from a DataFrame\n",
      "\n",
      "See the caveats in the documentation: http://pandas.pydata.org/pandas-docs/stable/indexing.html#indexing-view-versus-copy\n",
      "  \n"
     ]
    }
   ],
   "source": [
    "# Change Data as per problem requirement  \n",
    "\n",
    "for i in range(0,rows):\n",
    "    if Data[\"Absenteeism time in hours\"][i] != 0:\n",
    "       if Data[\"Reason for absence\"][i] == 0:\n",
    "          Data[\"Reason for absence\"][i] = np.nan\n",
    "    if Data[\"Month of absence\"][i] == 0:\n",
    "                Data[\"Month of absence\"][i] = np.nan\n",
    "     \n",
    "def preprocessing(Data):\n",
    "\n",
    "    # Change into require Data Types\n",
    "    Data[\"ID\"] = Data[\"ID\"].astype(str)\n",
    "    Data[\"Reason for absence\"] = Data[\"Reason for absence\"].astype(str)\n",
    "    Data[\"Month of absence\"] = Data[\"Month of absence\"].astype(str)\n",
    "    Data[\"Day of the week\"] = Data[\"Day of the week\"].astype(str)\n",
    "    Data[\"Seasons\"] = Data[\"Seasons\"].astype(str)\n",
    "    Data[\"Disciplinary failure\"] = Data[\"Disciplinary failure\"].astype(str)\n",
    "    Data[\"Education\"] = Data[\"Education\"].astype(str)\n",
    "    Data[\"Son\"] = Data[\"Son\"].astype(str)\n",
    "    Data[\"Social drinker\"] = Data[\"Social drinker\"].astype(str)\n",
    "    Data[\"Social smoker\"] = Data[\"Social smoker\"].astype(str)\n",
    "    Data[\"Pet\"] = Data[\"Pet\"].astype(str)\n",
    "\n",
    "    # Change NaN string values back to NaN \n",
    "    Data[\"ID\"] = Data[\"ID\"].replace(\"nan\",np.nan)\n",
    "    Data[\"Reason for absence\"] = Data[\"Reason for absence\"].replace(\"nan\",np.nan)\n",
    "    Data[\"Month of absence\"] = Data[\"Month of absence\"].replace(\"nan\",np.nan)\n",
    "    Data[\"Day of the week\"] = Data[\"Day of the week\"].replace(\"nan\",np.nan)\n",
    "    Data[\"Seasons\"] = Data[\"Seasons\"].replace(\"nan\",np.nan)\n",
    "    Data[\"Disciplinary failure\"] = Data[\"Disciplinary failure\"].replace(\"nan\",np.nan)\n",
    "    Data[\"Education\"] = Data[\"Education\"].replace(\"nan\",np.nan)\n",
    "    Data[\"Son\"] = Data[\"Son\"].replace(\"nan\",np.nan)\n",
    "    Data[\"Social drinker\"] = Data[\"Social drinker\"].replace(\"nan\",np.nan)\n",
    "    Data[\"Social smoker\"] = Data[\"Social smoker\"].replace(\"nan\",np.nan)\n",
    "    Data[\"Pet\"] = Data[\"Pet\"].replace(\"nan\",np.nan)\n",
    " \n",
    "# Covert factor varaible values to labels \n",
    "    for i in range(0, len(Data.columns)):\n",
    "        if(Data.iloc[:,i].dtypes == 'object'):\n",
    "            Data.iloc[:,i] = pd.Categorical(Data.iloc[:,i])\n",
    "            Data.iloc[:,i] = Data.iloc[:,i].cat.codes \n",
    "            Data.iloc[:,i] = Data.iloc[:,i].astype('object')\n",
    " # Convert -1 values back to NaN\n",
    "    for i in cnames[0]:\n",
    "        for j in range(0,rows):\n",
    "            if Data.loc[j,i] == -1:\n",
    "               Data.loc[j,i] = np.nan\n",
    "    return Data"
   ]
  },
  {
   "cell_type": "code",
   "execution_count": 13,
   "metadata": {},
   "outputs": [],
   "source": [
    "Data = preprocessing(Data)\n",
    "cnames = get_cname(Data)"
   ]
  },
  {
   "cell_type": "code",
   "execution_count": 14,
   "metadata": {},
   "outputs": [
    {
     "name": "stdout",
     "output_type": "stream",
     "text": [
      "ID                                  0\n",
      "Reason for absence                 11\n",
      "Month of absence                    4\n",
      "Day of the week                     0\n",
      "Seasons                             0\n",
      "Transportation expense              7\n",
      "Distance from Residence to Work     3\n",
      "Service time                        3\n",
      "Age                                 3\n",
      "Work load Average/day              10\n",
      "Hit target                          6\n",
      "Disciplinary failure                6\n",
      "Education                          10\n",
      "Son                                 6\n",
      "Social drinker                      3\n",
      "Social smoker                       4\n",
      "Pet                                 2\n",
      "Weight                              1\n",
      "Height                             14\n",
      "Body mass index                    31\n",
      "Absenteeism time in hours          22\n",
      "dtype: int64\n"
     ]
    }
   ],
   "source": [
    "# Missing Value analysis\n",
    "\n",
    "def missingValueCheck(data):\n",
    "\n",
    "    print(data.isna().sum())\n",
    "\n",
    "missingValueCheck(Data)"
   ]
  },
  {
   "cell_type": "code",
   "execution_count": 15,
   "metadata": {},
   "outputs": [
    {
     "name": "stderr",
     "output_type": "stream",
     "text": [
      "C:\\Users\\Q6IH\\Anaconda3\\lib\\site-packages\\ipykernel_launcher.py:13: SettingWithCopyWarning: \n",
      "A value is trying to be set on a copy of a slice from a DataFrame\n",
      "\n",
      "See the caveats in the documentation: http://pandas.pydata.org/pandas-docs/stable/indexing.html#indexing-view-versus-copy\n",
      "  del sys.path[0]\n"
     ]
    }
   ],
   "source": [
    "Depenedent_ID =  [\"ID\",\"Transportation expense\",\"Service time\",\"Age\",\"Height\",\n",
    "                   \"Distance from Residence to Work\",\"Education\",\"Son\",\"Weight\",\n",
    "                   \"Social smoker\",\"Social drinker\",\"Pet\",\"Body mass index\"]\n",
    "\n",
    "Depenedent_ID_data = Data[Depenedent_ID].copy()\n",
    "Depenedent_ID_data = Depenedent_ID_data.groupby(\"ID\").max()\n",
    "Depenedent_ID.remove('ID')\n",
    "\n",
    "for i in Depenedent_ID:\n",
    "    for j in range(0,rows):\n",
    "        RI = Data[\"ID\"][j]\n",
    "        if np.isnan(Data.loc[j,i]):\n",
    "            Data[i][j] = Depenedent_ID_data.loc[RI,i]"
   ]
  },
  {
   "cell_type": "code",
   "execution_count": 17,
   "metadata": {},
   "outputs": [
    {
     "name": "stdout",
     "output_type": "stream",
     "text": [
      "ID                                 0\n",
      "Reason for absence                 0\n",
      "Month of absence                   0\n",
      "Day of the week                    0\n",
      "Seasons                            0\n",
      "Transportation expense             0\n",
      "Distance from Residence to Work    0\n",
      "Service time                       0\n",
      "Age                                0\n",
      "Work load Average/day              0\n",
      "Hit target                         0\n",
      "Disciplinary failure               0\n",
      "Education                          0\n",
      "Son                                0\n",
      "Social drinker                     0\n",
      "Social smoker                      0\n",
      "Pet                                0\n",
      "Weight                             0\n",
      "Height                             0\n",
      "Body mass index                    0\n",
      "Absenteeism time in hours          0\n",
      "dtype: int64\n"
     ]
    }
   ],
   "source": [
    "for i in cnames[0]:\n",
    "    if i in cnames[1]:\n",
    "       Data[i] = Data[i].fillna(Data[i].mean())\n",
    "    elif i in cnames[2]: \n",
    "       Data[i] = Data[i].fillna(Data[i].median())\n",
    "\n",
    "Data = preprocessing(Data)\n",
    "missingValueCheck(Data)"
   ]
  },
  {
   "cell_type": "code",
   "execution_count": 18,
   "metadata": {},
   "outputs": [],
   "source": [
    "# Outlier Analysis\n",
    "\n",
    "# Get cnames of numeric varaibles not dependent on ID\n",
    "\n",
    "numeric_cnames = ['Work load Average/day ','Hit target']"
   ]
  },
  {
   "cell_type": "code",
   "execution_count": 19,
   "metadata": {},
   "outputs": [
    {
     "name": "stdout",
     "output_type": "stream",
     "text": [
      "ID                                 0\n",
      "Reason for absence                 0\n",
      "Month of absence                   0\n",
      "Day of the week                    0\n",
      "Seasons                            0\n",
      "Transportation expense             0\n",
      "Distance from Residence to Work    0\n",
      "Service time                       0\n",
      "Age                                0\n",
      "Work load Average/day              0\n",
      "Hit target                         0\n",
      "Disciplinary failure               0\n",
      "Education                          0\n",
      "Son                                0\n",
      "Social drinker                     0\n",
      "Social smoker                      0\n",
      "Pet                                0\n",
      "Weight                             0\n",
      "Height                             0\n",
      "Body mass index                    0\n",
      "Absenteeism time in hours          0\n",
      "dtype: int64\n"
     ]
    }
   ],
   "source": [
    "# Impute Outliers with NA\n",
    "\n",
    "for i in numeric_cnames:\n",
    "    q75, q25 = np.nanpercentile(Data.loc[:,i],[75, 25])\n",
    "    iqr = q75 - q25\n",
    "    min = q25 - (iqr*1.5)\n",
    "    max = q75 + (iqr*1.5)\n",
    "    Data.loc[Data[i] < min, i] = np.nan\n",
    "    Data.loc[Data[i] > max, i] = np.nan\n",
    "\n",
    "#Impute with Mean\n",
    "\n",
    "for i in cnames[0]:\n",
    "    Data[i] = Data[i].fillna(Data[i].mean())\n",
    "Data = preprocessing(Data)\n",
    "\n",
    "missingValueCheck(Data)"
   ]
  },
  {
   "cell_type": "code",
   "execution_count": 20,
   "metadata": {},
   "outputs": [
    {
     "data": {
      "text/plain": [
       "array([1.89623367e+00, 1.71770592e+01, 3.50299562e-01, 9.92493917e+00,\n",
       "       1.30201718e-03, 1.76966939e+00, 7.45472098e+00, 2.19270979e-01,\n",
       "       4.44994144e+00, 8.43018370e-02, 1.26307285e+00, 1.86970703e+00,\n",
       "       1.57987024e+00, 1.06311307e+01, 3.10958140e+00, 1.30168887e+00,\n",
       "       6.03660245e-01, 5.05578213e-02, 6.49142949e+00, 2.13289088e+00])"
      ]
     },
     "execution_count": 20,
     "metadata": {},
     "output_type": "execute_result"
    }
   ],
   "source": [
    "# Feature Selection\n",
    "\n",
    "from sklearn.feature_selection import SelectKBest\n",
    "from sklearn.feature_selection import f_regression\n",
    "\n",
    "X = Data.iloc[:,:-1].values\n",
    "y = Data.iloc[:,20].values\n",
    "\n",
    "# Create an SelectKBest object to select features with two best ANOVA F-Values\n",
    "\n",
    "selector = SelectKBest(f_regression, k=7)\n",
    "\n",
    "# Apply the SelectKBest object to the features and target\n",
    "\n",
    "X = selector.fit_transform(X, y)\n",
    "\n",
    "selector.scores_"
   ]
  },
  {
   "cell_type": "code",
   "execution_count": 21,
   "metadata": {},
   "outputs": [],
   "source": [
    "# Feature Scaling\n",
    "\n",
    "#Nomalisation\n",
    "\n",
    "from sklearn.preprocessing import normalize\n",
    "X = normalize(X, norm='l2')\n",
    "\n",
    "#for i in range(0,(X_kbest.shape[1]-1)):\n",
    "\n",
    "#    X_kbest[i] = (X_kbest[i] - np.min(X_kbest[i])) / (np.max(X_kbest[i]) - np.min(X_kbest[i]))\n",
    "\n",
    "# Error Matrix\n",
    "\n",
    "from sklearn.metrics import mean_squared_error\n",
    "from math import sqrt\n",
    "\n",
    "def RMSE(y, pred):\n",
    "    print(sqrt(mean_squared_error(y, pred)))\n",
    "\n",
    "def MSE(y, pred):\n",
    "    print(mean_squared_error(y, pred))"
   ]
  },
  {
   "cell_type": "code",
   "execution_count": 22,
   "metadata": {},
   "outputs": [],
   "source": [
    "from sklearn.model_selection import train_test_split\n",
    "\n",
    "X_train, X_test, y_train, y_test = train_test_split(X, y, test_size=0.2)"
   ]
  },
  {
   "cell_type": "code",
   "execution_count": 23,
   "metadata": {},
   "outputs": [
    {
     "name": "stdout",
     "output_type": "stream",
     "text": [
      "17.594894657720946\n",
      "309.58031801629704\n"
     ]
    }
   ],
   "source": [
    "# Multiple Linear Regression\n",
    "\n",
    "from sklearn.linear_model import LinearRegression\n",
    "lm_regressor = LinearRegression()\n",
    "lm_regressor.fit(X_train, y_train)\n",
    "lm_predict = lm_regressor.predict(X_test)\n",
    "\n",
    "RMSE(y_test, lm_predict)\n",
    "MSE(y_test, lm_predict)"
   ]
  },
  {
   "cell_type": "code",
   "execution_count": 24,
   "metadata": {},
   "outputs": [
    {
     "name": "stdout",
     "output_type": "stream",
     "text": [
      "17.63624082718393\n",
      "311.0369905144293\n"
     ]
    }
   ],
   "source": [
    "# Decision Tree Regressor\n",
    "\n",
    "from sklearn.tree import DecisionTreeRegressor\n",
    "DT_regressor = DecisionTreeRegressor()\n",
    "DT_regressor.fit(X_train, y_train)\n",
    "DT_predict = DT_regressor.predict(X_test)\n",
    "\n",
    "RMSE(y_test, DT_predict)\n",
    "MSE(y_test, DT_predict)"
   ]
  },
  {
   "cell_type": "code",
   "execution_count": 25,
   "metadata": {},
   "outputs": [
    {
     "name": "stdout",
     "output_type": "stream",
     "text": [
      "15.59181213836667\n",
      "243.10460575811825\n"
     ]
    }
   ],
   "source": [
    "# Random Forest Regressor\n",
    "\n",
    "from sklearn.ensemble import RandomForestRegressor\n",
    "RF_regressor = RandomForestRegressor()\n",
    "RF_regressor.fit(X_train, y_train)\n",
    "RF_predict = RF_regressor.predict(X_test)\n",
    "RMSE(y_test, RF_predict)\n",
    "MSE(y_test, RF_predict)"
   ]
  },
  {
   "cell_type": "code",
   "execution_count": 26,
   "metadata": {},
   "outputs": [
    {
     "name": "stdout",
     "output_type": "stream",
     "text": [
      "18.49656088078269\n",
      "342.12276441650044\n"
     ]
    }
   ],
   "source": [
    "# Support Vector Regressor\n",
    "\n",
    "from sklearn.svm import SVR\n",
    "SVR_regressor = SVR(kernel='rbf')\n",
    "SVR_regressor.fit(X_train, y_train)\n",
    "SVR_predict = SVR_regressor.predict(X_test)\n",
    "RMSE(y_test, SVR_predict)\n",
    "MSE(y_test, SVR_predict)"
   ]
  },
  {
   "cell_type": "code",
   "execution_count": 27,
   "metadata": {},
   "outputs": [
    {
     "data": {
      "text/plain": [
       "array([0.19471686, 0.08714498, 0.20926899, 0.1916698 , 0.14589661,\n",
       "       0.07235865, 0.09894411])"
      ]
     },
     "execution_count": 27,
     "metadata": {},
     "output_type": "execute_result"
    }
   ],
   "source": [
    "############################## Problems ##################################\n",
    "\n",
    "# Suggesting the changes\n",
    "\n",
    "RF_regressor_p1 = RandomForestRegressor().fit(X, y)\n",
    "RF_regressor_p1.feature_importances_"
   ]
  },
  {
   "cell_type": "code",
   "execution_count": 28,
   "metadata": {},
   "outputs": [],
   "source": [
    "# Calculating Losses\n",
    "\n",
    "p2_data = X\n",
    "\n",
    "#Predict for new test cases\n",
    "\n",
    "p2_predict = RF_regressor.predict(p2_data)\n",
    "p2_predict = pd.DataFrame(p2_predict)\n",
    "p2_predict.columns = ['predictions']\n",
    "\n",
    "# Add predicted values to the DataSet\n",
    "\n",
    "p2_frames = [Data, p2_predict]\n",
    "p2_dataSet = pd.concat(p2_frames, axis=1)"
   ]
  },
  {
   "cell_type": "code",
   "execution_count": 29,
   "metadata": {},
   "outputs": [],
   "source": [
    "# Calculate the total Loss \n",
    "\n",
    "Loss = 0\n",
    "\n",
    "for i in range(0,p2_dataSet.shape[0]):\n",
    "    if (p2_dataSet['Hit target'][i] != 100):\n",
    "        if (p2_dataSet['Age'][i] >= 25 and  p2_dataSet['Age'][i] <= 32):\n",
    "            Loss += (p2_dataSet['Disciplinary failure'][i] + 1) * 2000 + (p2_dataSet['Education'][i] + 1 + 1) * 500 + p2_dataSet['predictions'][i] * 1000\n",
    "        elif (p2_dataSet['Age'][i] >= 33 and  p2_dataSet['Age'][i] <= 40):\n",
    "            Loss += (p2_dataSet['Disciplinary failure'][i] + 1) * 2000 + (p2_dataSet['Education'][i] + 1 + 2) * 500 + p2_dataSet['predictions'][i] * 1000\n",
    "        elif (p2_dataSet['Age'][i] >= 41 and  p2_dataSet['Age'][i] <= 49):\n",
    "            Loss += (p2_dataSet['Disciplinary failure'][i] + 1) * 2000 + (p2_dataSet['Education'][i] + 1 + 3) * 500 + p2_dataSet['predictions'][i] * 1000\n",
    "        elif (p2_dataSet['Age'][i] >= 50 and  p2_dataSet['Age'][i] <= 60):\n",
    "            Loss += (p2_dataSet['Disciplinary failure'][i] + 1) * 2000 + (p2_dataSet['Education'][i] + 1 + 4) * 500 + p2_dataSet['predictions'][i] * 1000"
   ]
  },
  {
   "cell_type": "code",
   "execution_count": 30,
   "metadata": {},
   "outputs": [
    {
     "name": "stdout",
     "output_type": "stream",
     "text": [
      "630428.1705689052\n"
     ]
    }
   ],
   "source": [
    "# To calculate loss per month\n",
    "\n",
    "Loss = Loss/12\n",
    "print(Loss)"
   ]
  },
  {
   "cell_type": "code",
   "execution_count": null,
   "metadata": {},
   "outputs": [],
   "source": []
  }
 ],
 "metadata": {
  "kernelspec": {
   "display_name": "Python 3",
   "language": "python",
   "name": "python3"
  },
  "language_info": {
   "codemirror_mode": {
    "name": "ipython",
    "version": 3
   },
   "file_extension": ".py",
   "mimetype": "text/x-python",
   "name": "python",
   "nbconvert_exporter": "python",
   "pygments_lexer": "ipython3",
   "version": "3.6.5"
  }
 },
 "nbformat": 4,
 "nbformat_minor": 2
}
